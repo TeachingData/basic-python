{
 "cells": [
  {
   "cell_type": "markdown",
   "metadata": {
    "collapsed": true,
    "pycharm": {
     "name": "#%% md\n"
    }
   },
   "source": [
    "Example code for #5 [on Wikibooks entry](https://en.wikibooks.org/wiki/Python_Programming/Sequences) we used for this course.\n",
    "\n",
    "> Write a program that creates a dictionary mapping 1 to \"Monday,\" 2 to \"Tuesday,\" etc.\n"
   ]
  },
  {
   "cell_type": "code",
   "execution_count": 3,
   "outputs": [
    {
     "name": "stdout",
     "output_type": "stream",
     "text": [
      "Today is Monday.\n",
      "Today is Tuesday.\n",
      "Today is Wednesday.\n",
      "Today is Thursday.\n",
      "Today is Friday.\n",
      "Today is Saturday.\n",
      "Today is Sunday.\n",
      "Today is Monday the 1 day of the week\n",
      "Today is Tuesday the 2 day of the week\n",
      "Today is Wednesday the 3 day of the week\n",
      "Today is Thursday the 4 day of the week\n",
      "Today is Friday the 5 day of the week\n",
      "Today is Saturday the 6 day of the week\n",
      "Today is Sunday the 7 day of the week\n"
     ]
    }
   ],
   "source": [
    "from random import randrange\n",
    "# randrange used in next example\n",
    "\n",
    "# reminds you of the mod % one\n",
    "weekdays = {\n",
    "    \"Monday\": 1,\n",
    "    \"Tuesday\": 2,\n",
    "    \"Wednesday\": 3,\n",
    "    \"Thursday\": 4,\n",
    "    \"Friday\": 5,\n",
    "    \"Saturday\": 6,\n",
    "    \"Sunday\": 7\n",
    "}\n",
    "\n",
    "# can also use items or values\n",
    "for day in weekdays.keys():\n",
    "    # weekdays[day] would print the 1,2,3\n",
    "    print(f\"Today is {day}.\")\n",
    "\"\"\"\n",
    " As a note:\n",
    " if we went reverse we need a list\n",
    " cause of its index\n",
    "\"\"\"\n",
    "weekdays = [\"Monday\", \"Tuesday\",\n",
    "    \"Wednesday\", \"Thursday\",\n",
    "    \"Friday\", \"Saturday\",\n",
    "    \"Sunday\"]\n",
    "\n",
    "for i, day in enumerate(weekdays):\n",
    "    print(f\"Today is {day} the {i+1} day of the week\")"
   ],
   "metadata": {
    "collapsed": false,
    "pycharm": {
     "name": "#%%\n"
    }
   }
  },
  {
   "cell_type": "markdown",
   "source": [
    "Let's make a guessing game next."
   ],
   "metadata": {
    "collapsed": false
   }
  },
  {
   "cell_type": "code",
   "execution_count": 6,
   "outputs": [
    {
     "name": "stdout",
     "output_type": "stream",
     "text": [
      "nope too low\n",
      "nope too low\n",
      "nope too low\n",
      "nope too low\n",
      "nope too low\n",
      "nope too low\n",
      "nope too low\n",
      "nope too low\n",
      "Great Guess!\n"
     ]
    }
   ],
   "source": [
    "# Let's have a \"guess the number between 1 & 15\n",
    "\n",
    "#Note 0 cannot be number for while\n",
    "number = randrange(15)+1\n",
    "user_guess = 0\n",
    "\n",
    "while user_guess != number:\n",
    "    try:\n",
    "        user_guess = int(input(\"Enter a number between 1 & 15\"))\n",
    "    except ValueError:\n",
    "        print(\"Hey enter a number!\")\n",
    "        break\n",
    "\n",
    "    if user_guess < number:\n",
    "        print(\"nope too low\")\n",
    "    elif user_guess > number:\n",
    "        # don't need to check for >15 cause that's the max\n",
    "        print(\"nope too high\")\n",
    "    else:\n",
    "        print(\"Great Guess!\")\n",
    "        break\n",
    "\n",
    "    ''' Below line isn't the best\n",
    "        practice but is used to\n",
    "        display the \"everything is\n",
    "        an object\" part of Python\n",
    "    '''\n",
    "    if input(\"Want to guess again?\").lower().startswith(\"n\"): break"
   ],
   "metadata": {
    "collapsed": false,
    "pycharm": {
     "name": "#%%\n"
    }
   }
  },
  {
   "cell_type": "markdown",
   "source": [
    "Example of complex dictionary with list value"
   ],
   "metadata": {
    "collapsed": false
   }
  },
  {
   "cell_type": "code",
   "execution_count": 1,
   "outputs": [
    {
     "name": "stdout",
     "output_type": "stream",
     "text": [
      "\n",
      "The items in drinks are:\n",
      "\tfruit punch\n",
      "\ttea\n",
      "\twater\n",
      "\n",
      "The items in snacks are:\n",
      "\tpopcorn\n",
      "\tchips\n",
      "\n",
      "The items in produce are:\n",
      "\tmushrooms\n",
      "\tapples\n",
      "\tcarrots\n",
      "\n",
      "The items in meats are:\n",
      "\tbeef\n",
      "\tchicken\n",
      "\n",
      "The budget is 90.0\n",
      "\n"
     ]
    }
   ],
   "source": [
    "# Here a grocery list by category\n",
    "\n",
    "groceries = {\n",
    "    \"drinks\": [\"fruit punch\", \"tea\", \"water\"],\n",
    "    \"snacks\": [\"popcorn\", \"chips\"],\n",
    "    \"produce\": [\"mushrooms\", \"apples\", \"carrots\"],\n",
    "    \"meats\": [\"beef\", \"chicken\"],\n",
    "    \"budget\": 90.0\n",
    "}\n",
    "\n",
    "\"\"\"\n",
    "For this one we will just check the key\n",
    "later examples will check value types\n",
    "- print out groceries\n",
    "\"\"\"\n",
    "\n",
    "for category, items in groceries.items():\n",
    "    if category == \"budget\":\n",
    "        # just print it as a scalar\n",
    "        print(f\"\\nThe budget is {items}\\n\")\n",
    "    else:\n",
    "        # print header and values\n",
    "        print(f\"\\nThe items in {category} are:\")\n",
    "\n",
    "        # use Nested For to process (print) inner List\n",
    "        for i in items:\n",
    "            print(f\"\\t{i}\")\n"
   ],
   "metadata": {
    "collapsed": false,
    "pycharm": {
     "name": "#%%\n"
    }
   }
  }
 ],
 "metadata": {
  "kernelspec": {
   "display_name": "Python 3",
   "language": "python",
   "name": "python3"
  },
  "language_info": {
   "codemirror_mode": {
    "name": "ipython",
    "version": 2
   },
   "file_extension": ".py",
   "mimetype": "text/x-python",
   "name": "python",
   "nbconvert_exporter": "python",
   "pygments_lexer": "ipython2",
   "version": "2.7.6"
  }
 },
 "nbformat": 4,
 "nbformat_minor": 0
}