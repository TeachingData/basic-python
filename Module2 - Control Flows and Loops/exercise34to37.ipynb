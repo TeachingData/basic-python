{
 "cells": [
  {
   "cell_type": "markdown",
   "metadata": {
    "collapsed": true,
    "pycharm": {
     "name": "#%% md\n"
    }
   },
   "source": [
    "Note: These exercises were chosen to show\n",
    "Python's version of a switch statement & to\n",
    "talk about optimization with Big Data.\n",
    "\n",
    "##### Exercise 34\n",
    "For the parity check you can use modulus or\n",
    "bitwise. We will use bitwise because it is\n",
    "faster when dealing with numbers greater than\n",
    "10<sup>11</sup> (modulus is faster before).\n"
   ]
  },
  {
   "cell_type": "code",
   "execution_count": null,
   "outputs": [],
   "source": [
    "# Your assignment was to check\n",
    "# if the last character was divisible by two\n",
    "# This was practice, fast but not accurate\n",
    "\n",
    "try:\n",
    "    number = int(input(\"Please enter the number\"))\n",
    "except ValueError:\n",
    "    print(\"You must enter a numeric value\")\n",
    "    number = 0\n",
    "\n",
    "if number & 1:\n",
    "    print(\"It's odd\")\n",
    "else:\n",
    "    print(\"It's even\")"
   ],
   "metadata": {
    "collapsed": false,
    "pycharm": {
     "name": "#%%\n"
    }
   }
  },
  {
   "cell_type": "markdown",
   "source": [
    "##### Exercise 35\n"
   ],
   "metadata": {
    "collapsed": false
   }
  }
 ],
 "metadata": {
  "kernelspec": {
   "display_name": "Python 3",
   "language": "python",
   "name": "python3"
  },
  "language_info": {
   "codemirror_mode": {
    "name": "ipython",
    "version": 2
   },
   "file_extension": ".py",
   "mimetype": "text/x-python",
   "name": "python",
   "nbconvert_exporter": "python",
   "pygments_lexer": "ipython2",
   "version": "2.7.6"
  }
 },
 "nbformat": 4,
 "nbformat_minor": 0
}