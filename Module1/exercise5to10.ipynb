{
 "cells": [
  {
   "cell_type": "markdown",
   "metadata": {
    "collapsed": true,
    "pycharm": {
     "name": "#%% md\n"
    }
   },
   "source": [
    "#### Examples consist of basic computation\n",
    "<small>*with variables*</small>"
   ]
  },
  {
   "cell_type": "markdown",
   "source": [
    "##### Example 5 (same references)"
   ],
   "metadata": {
    "collapsed": false
   }
  },
  {
   "cell_type": "code",
   "execution_count": 27,
   "outputs": [
    {
     "name": "stdout",
     "output_type": "stream",
     "text": [
      "Your refund is $4.95\n"
     ]
    }
   ],
   "source": [
    "### Yes a dictionary or class could also work here - later\n",
    "\n",
    "small_bottles = float(input(\"How many bottles smaller than a liter?\"))\n",
    "large_bottles = float(input(\"How many more bottles?\"))\n",
    "\n",
    "small_bottles *= .1\n",
    "large_bottles *= .25\n",
    "\n",
    "print(f'Your refund is ${small_bottles+large_bottles:.2f}')"
   ],
   "metadata": {
    "collapsed": false,
    "pycharm": {
     "name": "#%%\n"
    }
   }
  },
  {
   "cell_type": "markdown",
   "source": [
    "##### Example 6\n",
    "<small>\n",
    "\n",
    "- Add reference [for if statements](https://docs.python.org/3/tutorial/controlflow.html)\n",
    "- As one should always verify the input\n",
    "\n",
    "</small>"
   ],
   "metadata": {
    "collapsed": false
   }
  },
  {
   "cell_type": "code",
   "execution_count": 28,
   "outputs": [
    {
     "name": "stdout",
     "output_type": "stream",
     "text": [
      "With a tip of $4.20 your total cost is $29.08\n"
     ]
    }
   ],
   "source": [
    "TAXRATE = .065\n",
    "TIPRATE = .18\n",
    "\n",
    "mealprice = float(input(\"How much was your meal?\"))\n",
    "\n",
    "if mealprice <= 1:\n",
    "    print(f\"Total is ${mealprice}, no tip/tax\")\n",
    "else:\n",
    "    tip = mealprice * TIPRATE\n",
    "    fullprice = mealprice + mealprice * TAXRATE + tip\n",
    "\n",
    "    print(f'With a tip of ${tip:.2f} your total cost is ${fullprice:.2f}')"
   ],
   "metadata": {
    "collapsed": false,
    "pycharm": {
     "name": "#%%\n"
    }
   }
  },
  {
   "cell_type": "markdown",
   "source": [
    "##### Exercise 7"
   ],
   "metadata": {
    "collapsed": false
   }
  },
  {
   "cell_type": "code",
   "execution_count": 29,
   "outputs": [
    {
     "name": "stdout",
     "output_type": "stream",
     "text": [
      "The sum of the numbers is 15\n"
     ]
    }
   ],
   "source": [
    "# We will redo this exercise with\n",
    "# -- loops, comprehensions, & recursion\n",
    "init_num = int(input(\"Enter a number to sum to\"))\n",
    "\n",
    "if init_num == 0:\n",
    "    print(\"There are no numbers to sum\")\n",
    "elif init_num == 1:\n",
    "    print(\"The sum of the numbers is 1\")\n",
    "else:\n",
    "    sumup = (init_num * (init_num + 1)) // 2\n",
    "    print(\"The sum of the numbers is {}\".format(sumup))"
   ],
   "metadata": {
    "collapsed": false,
    "pycharm": {
     "name": "#%%\n"
    }
   }
  },
  {
   "cell_type": "markdown",
   "source": [
    "##### Exercise 8"
   ],
   "metadata": {
    "collapsed": false
   }
  },
  {
   "cell_type": "code",
   "execution_count": 30,
   "outputs": [
    {
     "name": "stdout",
     "output_type": "stream",
     "text": [
      "The total weight is 3700 grams\n"
     ]
    }
   ],
   "source": [
    "widget = 75\n",
    "gizmo = 112\n",
    "\n",
    "# Note, next is bad practice\n",
    "#   Class has to demo why\n",
    "#   Then fix\n",
    "widget *= int(input(\"How many widgets?\"))\n",
    "gizmo *= int(input(\"How many gizmos?\"))\n",
    "\n",
    "print(\"The total weight is {} grams\".format(\n",
    "    gizmo + widget\n",
    "))"
   ],
   "metadata": {
    "collapsed": false,
    "pycharm": {
     "name": "#%%\n"
    }
   }
  },
  {
   "cell_type": "markdown",
   "source": [
    "##### Example 9"
   ],
   "metadata": {
    "collapsed": false
   }
  },
  {
   "cell_type": "code",
   "execution_count": 31,
   "outputs": [
    {
     "name": "stdout",
     "output_type": "stream",
     "text": [
      "Your account will have\n",
      "\n",
      "\t128.39 at 1 year\n",
      "\n",
      "\t133.52 at 2 years\n",
      "\n",
      "\t138.86 at 3 years\n"
     ]
    }
   ],
   "source": [
    "init_amount = float(input(\"How much is in the account?\"))\n",
    "\n",
    "#Assume bank has a 25$ minimum\n",
    "if init_amount < 25.0:\n",
    "    print(\"This does not meet minimum\")\n",
    "else:\n",
    "    one_year = init_amount + (init_amount * .04);\n",
    "    two_year = one_year + (one_year * .04);\n",
    "    three_year = two_year + (two_year * .04);\n",
    "\n",
    "    print(\"Your account will have\")\n",
    "    print(f\"\\t{one_year:.2f} at 1 year\")\n",
    "    print(f\"\\t{two_year:.2f} at 2 years\")\n",
    "    print(f\"\\t{three_year:.2f} at 3 years\")"
   ],
   "metadata": {
    "collapsed": false,
    "pycharm": {
     "name": "#%%\n"
    }
   }
  },
  {
   "cell_type": "markdown",
   "source": [
    "##### Exercise 10"
   ],
   "metadata": {
    "collapsed": false
   }
  },
  {
   "cell_type": "code",
   "execution_count": 33,
   "outputs": [
    {
     "name": "stdout",
     "output_type": "stream",
     "text": [
      "The sum is 37 while difference is 13\n",
      "The product is 300 & quotient is 0.48\n",
      "This has a remainder of 12\n",
      "12 to the power of 25 is 953962166440690129601298432\n",
      "12 log 10 is 1.0791812460476249\n"
     ]
    }
   ],
   "source": [
    "import math\n",
    "\n",
    "num_a = int(input(\"Please give a first number\"))\n",
    "num_b = int(input(\"And the second\"))\n",
    "\n",
    "print(f\"The sum is {num_a + num_b} while difference is {num_b - num_a}\")\n",
    "print(f\"The product is {num_a * num_b} & quotient is {num_a / num_b}\")\n",
    "print(f\"This has a remainder of {num_a % num_b}\")\n",
    "\n",
    "print(f\"{num_a} to the power of {num_b} is {num_a ** num_b}\")\n",
    "print(f\"{num_a} log 10 is {math.log10(num_a)}\")"
   ],
   "metadata": {
    "collapsed": false,
    "pycharm": {
     "name": "#%%\n"
    }
   }
  }
 ],
 "metadata": {
  "kernelspec": {
   "display_name": "Python 3",
   "language": "python",
   "name": "python3"
  },
  "language_info": {
   "codemirror_mode": {
    "name": "ipython",
    "version": 2
   },
   "file_extension": ".py",
   "mimetype": "text/x-python",
   "name": "python",
   "nbconvert_exporter": "python",
   "pygments_lexer": "ipython2",
   "version": "2.7.6"
  }
 },
 "nbformat": 4,
 "nbformat_minor": 0
}