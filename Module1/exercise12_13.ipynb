{
 "cells": [
  {
   "cell_type": "markdown",
   "metadata": {
    "collapsed": true,
    "pycharm": {
     "name": "#%% md\n"
    }
   },
   "source": [
    "#### Exercise 12\n",
    "<small>\n",
    "\n",
    "- Adds [for loop reference](https://docs.python.org/3/tutorial/controlflow.html)\n",
    "- Adds [list reference 1](https://docs.python.org/3/tutorial/introduction.html#lists) & [reference 2](https://docs.python.org/3/tutorial/datastructures.html)\n",
    "  - *Not array - that comes later*\n",
    "\n",
    "</small>"
   ]
  },
  {
   "cell_type": "code",
   "execution_count": 16,
   "outputs": [
    {
     "name": "stdout",
     "output_type": "stream",
     "text": [
      "The following program will ask for 2 sets of points:\n",
      "The distance between the points is 15789.5894km\n"
     ]
    }
   ],
   "source": [
    "# This is used as a reference to see nesting too\n",
    "import math as m\n",
    "points = []\n",
    "\n",
    "print(\"The following program will ask for 2 sets of points:\")\n",
    "for i in range(2):\n",
    "    while True:\n",
    "        lat = float(input(\"Please enter a latitude\"))\n",
    "        lon = float(input(\"Please enter a longitude\"))\n",
    "\n",
    "        #Based on US ranges (vaguely\n",
    "        if lat > 15 and lon < -20:\n",
    "            points.extend([lat, lon])\n",
    "            break\n",
    "        else:\n",
    "            input(\"Those values are not in US. Press enter to continue\")\n",
    "\n",
    "distance = 6371.01 * m.acos(\n",
    "    m.sin(points[0] * m.sin(points[2]) +\n",
    "    m.cos(points[0]) * m.cos(points[2]) *\n",
    "    m.cos(points[1] - points[3])))\n",
    "print(f\"The distance between the points is {distance:.4f}km\")"
   ],
   "metadata": {
    "collapsed": false,
    "pycharm": {
     "name": "#%%\n"
    }
   }
  },
  {
   "cell_type": "markdown",
   "source": [
    "#### Exercise 13"
   ],
   "metadata": {
    "collapsed": false
   }
  },
  {
   "cell_type": "code",
   "execution_count": 17,
   "outputs": [
    {
     "name": "stdout",
     "output_type": "stream",
     "text": [
      "The number of coins needed for 15.25 is:\n",
      "You will need 15 Dollar\n",
      "You will need 1 Quarter\n",
      "You will need 0 Dime\n",
      "You will need 0 Nickel\n",
      "You will need 0 Penny\n"
     ]
    }
   ],
   "source": [
    "## List version (to explain emumerate & reason for dict\n",
    "COINNAMES = [\"Dollar\", \"Quarter\", \"Dime\", \"Nickel\", \"Penny\"]\n",
    "COINS = [1.0, .25, .1, .05, .01]\n",
    "\n",
    "try:\n",
    "    amount = float(input(\"Enter amount paid\"))\n",
    "except ValueError:\n",
    "    print(\"That's not a number\")\n",
    "\n",
    "if amount <= 0:\n",
    "    print(\"No change due\")\n",
    "else:\n",
    "    print(f\"The number of coins needed for {amount} is:\")\n",
    "    for i, c in enumerate(COINS):\n",
    "        coins_needed = 0\n",
    "\n",
    "        while amount >= c:\n",
    "            amount -= c\n",
    "            coins_needed += 1\n",
    "        print(f\"You will need {coins_needed} {COINNAMES[i]}\")\n",
    "    ### Logically this should work (ignore rounding errors for until dict)"
   ],
   "metadata": {
    "collapsed": false,
    "pycharm": {
     "name": "#%%\n"
    }
   }
  },
  {
   "cell_type": "markdown",
   "source": [
    "##### Exercise 13 with Dictionary\n",
    "<small>\n",
    "\n",
    "- *Same reference [but different section](https://docs.python.org/3/tutorial/datastructures.html#dictionaries)*\n",
    "\n",
    "</small>"
   ],
   "metadata": {
    "collapsed": false
   }
  },
  {
   "cell_type": "code",
   "execution_count": 18,
   "outputs": [
    {
     "name": "stdout",
     "output_type": "stream",
     "text": [
      "The number of coins needed for 52.35 is:\n",
      "You will need 52 Dollar\n",
      "You will need 1 Quarter\n",
      "You will need 1 Dime\n",
      "You will need 0 Nickel\n",
      "You will need 0 Penny\n"
     ]
    }
   ],
   "source": [
    "## Now with a Dictionary (think Map or JSON)\n",
    "## And why floats are bad for money (use decimal..or *100)\n",
    "COINS = {\"Dollar\": 100, \"Quarter\": 25,\n",
    "         \"Dime\": 10, \"Nickel\": 5,\n",
    "         \"Penny\": 1}\n",
    "\n",
    "try:\n",
    "    amount = float(input(\"Enter amount paid\"))\n",
    "except ValueError:\n",
    "    print(\"That's not a number!\")\n",
    "\n",
    "if amount <= 0:\n",
    "    print(\"No change due\")\n",
    "else:\n",
    "    print(f\"The number of coins needed for {amount} is:\")\n",
    "    amount = int(100 * amount)\n",
    "    # * 100 is best (i.e. count cents)...don't need int btw\n",
    "\n",
    "    for coin, value in COINS.items():\n",
    "        coins_needed = 0\n",
    "\n",
    "        while amount >= value:\n",
    "            amount -= value\n",
    "            coins_needed += 1\n",
    "        print(f\"You will need {coins_needed} {coin}\")\n"
   ],
   "metadata": {
    "collapsed": false,
    "pycharm": {
     "name": "#%%\n"
    }
   }
  }
 ],
 "metadata": {
  "kernelspec": {
   "display_name": "Python 3",
   "language": "python",
   "name": "python3"
  },
  "language_info": {
   "codemirror_mode": {
    "name": "ipython",
    "version": 2
   },
   "file_extension": ".py",
   "mimetype": "text/x-python",
   "name": "python",
   "nbconvert_exporter": "python",
   "pygments_lexer": "ipython2",
   "version": "2.7.6"
  }
 },
 "nbformat": 4,
 "nbformat_minor": 0
}