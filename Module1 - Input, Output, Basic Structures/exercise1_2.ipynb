{
 "cells": [
  {
   "cell_type": "markdown",
   "source": [
    "##### Example 1\n",
    "<small>\n",
    "\n",
    "- References for examples is the [input output section](https://docs.python.org/3/tutorial/inputoutput.html#fancier-output-formatting)\n",
    "  - We used string literal most of the time but string.format is demonstrated in 1st example\n",
    "</small>"
   ],
   "metadata": {
    "collapsed": false
   }
  },
  {
   "cell_type": "code",
   "execution_count": 2,
   "outputs": [
    {
     "name": "stdout",
     "output_type": "stream",
     "text": [
      "\tThe User\n",
      "\t999 My Address\n",
      "\tFt. Myers, FL 12345\n"
     ]
    }
   ],
   "source": [
    "username = \"The User\"\n",
    "address = \"999 My Address\"\n",
    "\n",
    "print('\\t{}\\n\\t{}\\n\\tFt. Myers, FL 12345'.format(\n",
    "    username, address\n",
    "))"
   ],
   "metadata": {
    "collapsed": false,
    "pycharm": {
     "name": "#%%\n"
    }
   }
  },
  {
   "cell_type": "markdown",
   "source": [
    "#### Example 2"
   ],
   "metadata": {
    "collapsed": false
   }
  },
  {
   "cell_type": "code",
   "execution_count": 4,
   "outputs": [
    {
     "name": "stdout",
     "output_type": "stream",
     "text": [
      "Thanks and hello Bob Johnson\n"
     ]
    }
   ],
   "source": [
    "# Docs are great here, see: https://beginnersbook.com/2018/01/python-get-user-input/\n",
    "username = input(\"Hi! What's your name?\")\n",
    "print(f'Thanks and hello {username}')\n",
    "\n",
    "\n"
   ],
   "metadata": {
    "collapsed": false,
    "pycharm": {
     "name": "#%%\n"
    }
   }
  },
  {
   "cell_type": "markdown",
   "source": [
    "#### That's it for exercises 1 & 2\n",
    "\n"
   ],
   "metadata": {
    "collapsed": false
   }
  }
 ],
 "metadata": {
  "kernelspec": {
   "display_name": "Python 3",
   "language": "python",
   "name": "python3"
  },
  "language_info": {
   "codemirror_mode": {
    "name": "ipython",
    "version": 2
   },
   "file_extension": ".py",
   "mimetype": "text/x-python",
   "name": "python",
   "nbconvert_exporter": "python",
   "pygments_lexer": "ipython2",
   "version": "2.7.6"
  },
  "pycharm": {
   "stem_cell": {
    "cell_type": "raw",
    "source": [
     "\n"
    ],
    "metadata": {
     "collapsed": false
    }
   }
  }
 },
 "nbformat": 4,
 "nbformat_minor": 0
}