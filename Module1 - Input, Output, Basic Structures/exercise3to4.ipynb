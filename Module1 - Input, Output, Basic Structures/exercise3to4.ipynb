{
 "cells": [
  {
   "cell_type": "markdown",
   "source": [
    "#### These exercises were on numerical input\n",
    "##### Exercise 3\n",
    "<small>\n",
    "\n",
    "- *Same reference for input;*\n",
    "- *[See Calculator for numeric handling](https://docs.python.org/3/tutorial/introduction.html#using-python-as-a-calculator)*\n",
    "\n",
    "</small>"
   ],
   "metadata": {
    "collapsed": false,
    "pycharm": {
     "name": "#%% md\n"
    }
   }
  },
  {
   "cell_type": "code",
   "execution_count": 2,
   "outputs": [
    {
     "name": "stdout",
     "output_type": "stream",
     "text": [
      "The area of the room is 120\n"
     ]
    }
   ],
   "source": [
    "# Using int here to show int (used float in next)\n",
    "\n",
    "length = int(input(\"What is the length of the room?\"))\n",
    "width = int(input(\"What is its width?\"))\n",
    "print(f'The area of the room is {length * width}')"
   ],
   "metadata": {
    "collapsed": false,
    "pycharm": {
     "name": "#%%\n"
    }
   }
  },
  {
   "cell_type": "markdown",
   "source": [
    "##### Example 4\n",
    "<small>\n",
    "\n",
    "- *All references are the same*\n",
    "\n",
    "</small>"
   ],
   "metadata": {
    "collapsed": false
   }
  },
  {
   "cell_type": "code",
   "execution_count": 6,
   "outputs": [
    {
     "name": "stdout",
     "output_type": "stream",
     "text": [
      "The field is 102 acres\n"
     ]
    }
   ],
   "source": [
    "length = float(input(\"What is the length of the field?\"))\n",
    "width = float(input(\"What is its width?\"))\n",
    "acres = int((length * width) / 43560)\n",
    "#\"round\" by int wrapping (note: // will leave .0\n",
    "\n",
    "print(f'The field is {acres} acres')\n"
   ],
   "metadata": {
    "collapsed": false,
    "pycharm": {
     "name": "#%%\n"
    }
   }
  }
 ],
 "metadata": {
  "kernelspec": {
   "display_name": "Python 3",
   "language": "python",
   "name": "python3"
  },
  "language_info": {
   "codemirror_mode": {
    "name": "ipython",
    "version": 2
   },
   "file_extension": ".py",
   "mimetype": "text/x-python",
   "name": "python",
   "nbconvert_exporter": "python",
   "pygments_lexer": "ipython2",
   "version": "2.7.6"
  }
 },
 "nbformat": 4,
 "nbformat_minor": 0
}