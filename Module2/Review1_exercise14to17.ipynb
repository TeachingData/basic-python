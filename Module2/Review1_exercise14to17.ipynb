{
 "cells": [
  {
   "cell_type": "markdown",
   "metadata": {
    "collapsed": true,
    "pycharm": {
     "name": "#%% md\n"
    }
   },
   "source": [
    "#### Review with more mathematical functions\n",
    "\n",
    "<small>\n",
    "\n",
    "*This is a review lesson of module 1 with\n",
    "problems applicable to real-world calculations.*\n",
    "\n",
    "</small>\n",
    "\n",
    "### Exercise 14 & 15\n",
    "\n",
    "<small>\n",
    "\n",
    "*These are combined (both are unit conversion).\n",
    "These types of problems are also applicable in multiple\n",
    "situations (temp, money, etc).*\n",
    "\n",
    "</small>\n",
    "\n",
    "References\n",
    "\n",
    "<small>\n",
    "\n",
    "- See Module 1\n",
    "\n",
    "</small>"
   ]
  },
  {
   "cell_type": "code",
   "execution_count": 12,
   "outputs": [
    {
     "name": "stdout",
     "output_type": "stream",
     "text": [
      "{'inches': 42.0, 'feet': 3.5, 'yards': 1.1666666666666667, 'miles': 0.0006628787878787879, 'centimeters': 16.53543307086614}\n"
     ]
    }
   ],
   "source": [
    "UNITS = {\n",
    "    \"feet\": 12,\n",
    "    \"yards\": 36,\n",
    "    \"miles\": 63360,\n",
    "    \"centimeters\": 2.54\n",
    "    # no meters because metric is *100\n",
    "}\n",
    "\n",
    "try:\n",
    "    user_feet = float(input(\"Please enter the number of feet (0 or greater)\"))\n",
    "    user_inches = float(input(\"Please enter the number of inches (0 or greater)\"))\n",
    "    # This could ask for both and split on a space but with a console better to split it\n",
    "except ValueError:\n",
    "    print(\"You must enter a numeric value for feet & inches\")\n",
    "    user_feet = 0.0\n",
    "    user_inches = 0.0\n",
    "\n",
    "totals = {}\n",
    "\n",
    "totals[\"inches\"] = user_feet * UNITS[\"feet\"] + user_inches\n",
    "\n",
    "# Now that we have inches we can just loop through all the others\n",
    "for unit in UNITS.keys():\n",
    "    totals[unit] = totals[\"inches\"] / UNITS[unit]\n",
    "\n",
    "print(totals)"
   ],
   "metadata": {
    "collapsed": false,
    "pycharm": {
     "name": "#%%\n"
    }
   }
  },
  {
   "cell_type": "markdown",
   "source": [
    "#### Exercise 16\n",
    "References:\n",
    "\n",
    "- [JSON Module docs](https://docs.python.org/3/library/json.html)\n",
    "- [Mozilla's JSON Guide](https://docs.python.org/3/library/json.html) (for JSON itself)\n",
    "- [Guide to using JSON library](https://linuxconfig.org/how-to-parse-data-from-json-into-python)"
   ],
   "metadata": {
    "collapsed": false,
    "pycharm": {
     "name": "#%% md\n"
    }
   }
  },
  {
   "cell_type": "code",
   "execution_count": 13,
   "outputs": [
    {
     "name": "stdout",
     "output_type": "stream",
     "text": [
      "The area is 84.9487 with a volume of 588.9774\n"
     ]
    }
   ],
   "source": [
    "import json\n",
    "from math import pi\n",
    "\n",
    "\"\"\"Data comes from many places\n",
    "and its collection should be automated\"\"\"\n",
    "\n",
    "# open the file, read & load the json into a dict\n",
    "# This is called serialization\n",
    "wheel = {}\n",
    "with open('../data/wheel.json') as f:\n",
    "    wheel = json.load(f)\n",
    "\n",
    "area = pi * wheel[\"radius\"]**2\n",
    "volume = (4 * pi * wheel[\"radius\"]**3)/3\n",
    "\n",
    "print(f\"The area is {area:.4f} with a volume of {volume:.4f}\")"
   ],
   "metadata": {
    "collapsed": false,
    "pycharm": {
     "name": "#%%\n"
    }
   }
  },
  {
   "cell_type": "markdown",
   "source": [
    "##### Exercise 17\n",
    "*Note we will return to this using async\n",
    "operations to make this more of an engineering system.\n",
    "I.e. the temp will be checked & recorded every 2 seconds.*"
   ],
   "metadata": {
    "collapsed": false
   }
  },
  {
   "cell_type": "code",
   "execution_count": 14,
   "outputs": [
    {
     "name": "stdout",
     "output_type": "stream",
     "text": [
      "The energy needed is 52.7436\n",
      "The energy needed is 0.6279\n"
     ]
    }
   ],
   "source": [
    "water_mass = 0.0\n",
    "temp_change = 0.0\n",
    "exit_flag = True\n",
    "\n",
    "while exit_flag:\n",
    "    while water_mass == 0.0:\n",
    "        try:\n",
    "            water_mass = float(input(\"Please enter the mass\"))\n",
    "            temp_change = float(input(\"Please enter the temp change\"))\n",
    "        except ValueError:\n",
    "            print(\"You must enter a numeric value\")\n",
    "            water_mass = 0.0\n",
    "\n",
    "    energy = 4.186 * water_mass * temp_change\n",
    "    print(f\"The energy needed is {energy}\")\n",
    "\n",
    "    user_ans = input(\"Do you want to continue? (Y or N)\")\n",
    "    if user_ans.lower()[0] == 'n':\n",
    "        #string = character array so check 1st index\n",
    "        exit_flag = False\n",
    "    water_mass = 0.0\n",
    "\n"
   ],
   "metadata": {
    "collapsed": false,
    "pycharm": {
     "name": "#%%\n"
    }
   }
  }
 ],
 "metadata": {
  "kernelspec": {
   "display_name": "Python 3",
   "language": "python",
   "name": "python3"
  },
  "language_info": {
   "codemirror_mode": {
    "name": "ipython",
    "version": 2
   },
   "file_extension": ".py",
   "mimetype": "text/x-python",
   "name": "python",
   "nbconvert_exporter": "python",
   "pygments_lexer": "ipython2",
   "version": "2.7.6"
  }
 },
 "nbformat": 4,
 "nbformat_minor": 0
}