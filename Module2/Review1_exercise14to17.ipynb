{
 "cells": [
  {
   "cell_type": "markdown",
   "metadata": {
    "collapsed": true,
    "pycharm": {
     "name": "#%% md\n"
    }
   },
   "source": [
    "#### Review with more mathematical functions\n",
    "\n",
    "<small>\n",
    "\n",
    "*This is a review lesson of module 1 with\n",
    "problems applicable to real-world calculations.*\n",
    "\n",
    "</small>\n",
    "\n",
    "### Exercise 14 & 15\n",
    "\n",
    "<small>\n",
    "\n",
    "*These are combined (both are unit conversion).\n",
    "These types of problems are also applicable in multiple\n",
    "situations (temp, money, etc).*\n",
    "\n",
    "</small>\n",
    "\n",
    "References\n",
    "\n",
    "<small>\n",
    "\n",
    "- See Module 1\n",
    "\n",
    "</small>"
   ]
  },
  {
   "cell_type": "code",
   "execution_count": 4,
   "outputs": [
    {
     "name": "stdout",
     "output_type": "stream",
     "text": [
      "{'inches': 24.0, 'feet': 2.0, 'yards': 0.6666666666666666, 'miles': 0.0003787878787878788, 'centimeters': 9.448818897637794}\n"
     ]
    }
   ],
   "source": [
    "UNITS = {\n",
    "    \"feet\": 12,\n",
    "    \"yards\": 36,\n",
    "    \"miles\": 63360,\n",
    "    \"centimeters\": 2.54\n",
    "    # no meters because metric is *100\n",
    "}\n",
    "\n",
    "try:\n",
    "    user_feet = float(input(\"Please enter the number of feet (0 or greater)\"))\n",
    "    user_inches = float(input(\"Please enter the number of inches (0 or greater)\"))\n",
    "    # This could ask for both and split on a space but with a console better to split it\n",
    "except ValueError:\n",
    "    print(\"You must enter a numeric value for feet & inches\")\n",
    "    user_feet = 0.0\n",
    "    user_inches = 0.0\n",
    "\n",
    "totals = {}\n",
    "\n",
    "totals[\"inches\"] = user_feet * UNITS[\"feet\"] + user_inches\n",
    "\n",
    "# Now that we have inches we can just loop through all the others\n",
    "for unit in UNITS.keys():\n",
    "    totals[unit] = totals[\"inches\"] / UNITS[unit]\n",
    "\n",
    "print(totals)"
   ],
   "metadata": {
    "collapsed": false,
    "pycharm": {
     "name": "#%%\n"
    }
   }
  },
  {
   "cell_type": "markdown",
   "source": [
    "#### Exercise 16\n",
    "\n"
   ],
   "metadata": {
    "collapsed": false,
    "pycharm": {
     "name": "#%% md\n"
    }
   }
  }
 ],
 "metadata": {
  "kernelspec": {
   "display_name": "Python 3",
   "language": "python",
   "name": "python3"
  },
  "language_info": {
   "codemirror_mode": {
    "name": "ipython",
    "version": 2
   },
   "file_extension": ".py",
   "mimetype": "text/x-python",
   "name": "python",
   "nbconvert_exporter": "python",
   "pygments_lexer": "ipython2",
   "version": "2.7.6"
  }
 },
 "nbformat": 4,
 "nbformat_minor": 0
}