{
 "cells": [
  {
   "cell_type": "markdown",
   "metadata": {
    "collapsed": true,
    "pycharm": {
     "name": "#%% md\n"
    }
   },
   "source": [
    "## Example of Visualizations\n",
    "Will show:\n",
    "- Plot a line plot (scatter) & bar\n",
    "- Load SQL in Notebook\n",
    "  - Look a sub note"
   ]
  },
  {
   "cell_type": "code",
   "source": [
    "%matplotlib inline\n",
    "\n",
    "import sqlite3\n",
    "import json\n",
    "import pandas as pd #I love pandas they so cute\n",
    "import matplotlib.pyplot as plt\n",
    "import seaborn as sns\n",
    "from numpy import array\n",
    "from collections import Counter\n",
    "\n",
    "conn = sqlite3.connect('../data/Events.db')\n",
    "\n",
    "## Databases = SQL (ACID) RDBMS\n",
    "### Dataframes = SQL-like (Not only SQL or NoSQL)\n",
    "df = pd.read_sql_query(\"\"\"select a.event_id as id,\n",
    "            e.event_descript as description,\n",
    "            count(a.event_id) as count\n",
    "    from attending a\n",
    "    inner join events e on a.event_id = e.event_id\n",
    "    group by a.event_id;\"\"\", conn)\n",
    "\n",
    "# pandas version of json.dumps to file\n",
    "#df.to_json('../data/eventsAttended.json')"
   ],
   "metadata": {
    "collapsed": false,
    "pycharm": {
     "name": "#%%\n"
    }
   },
   "execution_count": 1,
   "outputs": []
  },
  {
   "cell_type": "code",
   "execution_count": 2,
   "outputs": [
    {
     "data": {
      "text/plain": "<BarContainer object of 4 artists>"
     },
     "execution_count": 2,
     "metadata": {},
     "output_type": "execute_result"
    },
    {
     "data": {
      "text/plain": "<Figure size 432x288 with 1 Axes>",
      "image/png": "[encoded data removed]"
     },
     "metadata": {
      "needs_background": "light"
     },
     "output_type": "display_data"
    }
   ],
   "source": [
    "plt.bar(df['description'], df['count'])\n",
    "## plt.show() # don't need because of inline"
   ],
   "metadata": {
    "collapsed": false,
    "pycharm": {
     "name": "#%%\n"
    }
   }
  },
  {
   "cell_type": "code",
   "execution_count": 3,
   "outputs": [],
   "source": [
    "## Let's combine the above and load our DailyLabor & ServiceTimes\n",
    "## And see which repairs are most ordered together\n",
    "#### Market Based (affinity) Analysis w/SQL\n",
    "\n",
    "# close old conn cause we are making a new one\n",
    "conn.close()\n",
    "# yep the below will create  a new DB\n",
    "conn = sqlite3.connect('../data/DailyReports.db')\n",
    "cur = conn.cursor()\n",
    "## Then let's make our standard scripts cause this would rebuild every night\n",
    "### Yep, this is batch not transaction .... still ACID\n",
    "##### IS 2N-ish thought (like 1/2 N)\n",
    "sqlscript = [\"DROP TABLE IF EXISTS orderservices;\",\n",
    "    \"DROP TABLE IF EXISTS dailylabors;\",\n",
    "    \"DROP TABLE IF EXISTS servicetimes;\",\n",
    "    \"DROP TABLE IF EXISTS pickups;\",\n",
    "    \"\"\"CREATE TABLE servicetimes (\n",
    "        service VARCHAR PRIMARY KEY,\n",
    "        stime INTEGER);\"\"\",\n",
    "    \"\"\"CREATE TABLE dailylabors (\n",
    "        order_id INTEGER PRIMARY KEY,\n",
    "        date VARCHAR(12),\n",
    "        day VARCHAR(5),\n",
    "        price REAL,\n",
    "        description VARCHAR,\n",
    "        new_mem INTEGER CHECK (new_mem IN (0,1)),\n",
    "        -- 0 = false or 1 = true\n",
    "        member INTEGER CHECK (member IN (0,1)));\"\"\",\n",
    "    \"\"\"CREATE TABLE pickups (\n",
    "    date VARCHAR(12) PRIMARY KEY,\n",
    "    pickups INTEGER);\"\"\",\n",
    "    \"\"\"CREATE TABLE orderservices (\n",
    "    service  VARCHAR,\n",
    "    order_id INTEGER,\n",
    "    FOREIGN KEY (service)\n",
    "      REFERENCES servicetimes (service),\n",
    "    FOREIGN KEY (order_id)\n",
    "      REFERENCES dailylabors (order_id));\"\"\"\n",
    "    ]\n",
    "\n",
    "for sql in sqlscript:\n",
    "    cur.execute(sql)\n",
    "### so we'll execute this to show it works and does create it\n",
    "##### but it seems we are moving out of SQL"
   ],
   "metadata": {
    "collapsed": false,
    "pycharm": {
     "name": "#%%\n"
    }
   }
  },
  {
   "cell_type": "code",
   "execution_count": 4,
   "outputs": [],
   "source": [
    "### so now we need to process that json and build some inserts\n",
    "with open(\"../data/ServiceTimes.json\", \"r\") as rf:\n",
    "    services = json.load(rf)\n",
    "\n",
    "# so this would be a dict of \"service name\": \"time\"\n",
    "for s,t in services.items():\n",
    "    cur.execute(\"insert into servicetimes values(?,?);\", (s,t))\n",
    "# need to commit it or it rollsback\n",
    "conn.commit()\n"
   ],
   "metadata": {
    "collapsed": false,
    "pycharm": {
     "name": "#%%\n"
    }
   }
  },
  {
   "cell_type": "code",
   "execution_count": 5,
   "outputs": [],
   "source": [
    "dailies = []\n",
    "\n",
    "with open(\"../data/DailyLabor.json\", \"r\") as rf:\n",
    "    raw_dailies = json.load(rf)\n",
    "\n",
    "# so this one is a list ([]) of dictionaries\n",
    "#service_insert = \"insert into servicetimes values(?,?);\"\n",
    "for days in raw_dailies:\n",
    "    for k in days:\n",
    "        ## cause days is a dictionary\n",
    "        ## pickups is easy so let's start with that:\n",
    "        if k == \"pickups\":\n",
    "            cur.execute(\"insert into pickups values (?,?);\",\n",
    "                        (days['date'], days[k]))\n",
    "        elif k == \"orders\":\n",
    "          ## need to loop over new dictionary\n",
    "          for o in days[k]:\n",
    "              cur_order = {\"order_id\": int(o),\n",
    "                           \"date\": days['date'],\n",
    "                           \"day\": days['day']\n",
    "                           }\n",
    "              for so in days[k][o]:\n",
    "                  if so == \"services\":\n",
    "                      for service in days[k][o][so]:\n",
    "\n",
    "                        cur.execute(\"insert into orderservices values (?,?);\", (service,int(o)))\n",
    "                  else:\n",
    "                      if so == \"price\":\n",
    "                          ## make sure price is float (real)\n",
    "                          cur_order[so] = float(days[k][o][so])\n",
    "                      elif so == \"member\":\n",
    "                          ## make sure true false is correct (1 = true, 0 = false)\n",
    "                          cur_order[so] = 1 if days[k][o][so] else 0\n",
    "                      elif so == \"new\":\n",
    "                          ## make sure true false is correct (1 = true, 0 = false)\n",
    "                          cur_order[\"new_mem\"] = 1 if days[k][o][so] else 0\n",
    "                      else:\n",
    "                          cur_order[so] = days[k][o][so]\n",
    "              dailies.append(cur_order)"
   ],
   "metadata": {
    "collapsed": false,
    "pycharm": {
     "name": "#%%\n"
    }
   }
  },
  {
   "cell_type": "code",
   "execution_count": 6,
   "outputs": [],
   "source": [
    "conn.commit()"
   ],
   "metadata": {
    "collapsed": false,
    "pycharm": {
     "name": "#%%\n"
    }
   }
  },
  {
   "cell_type": "code",
   "execution_count": 7,
   "outputs": [],
   "source": [
    "## not starting the dailies because that would be a mess to debug\n",
    "#### Let's insert it now\n",
    "insertmain = 'INSERT INTO dailylabors ({}) VALUES ({})'.format(\n",
    "                ','.join(cur_order.keys()),\n",
    "                ','.join(['?']*len(cur_order)))\n",
    "\n",
    "for inserts in dailies:\n",
    "    cur.execute(insertmain, tuple(inserts.values()))"
   ],
   "metadata": {
    "collapsed": false,
    "pycharm": {
     "name": "#%%\n"
    }
   }
  },
  {
   "cell_type": "code",
   "execution_count": 8,
   "outputs": [],
   "source": [
    "conn.commit()"
   ],
   "metadata": {
    "collapsed": false,
    "pycharm": {
     "name": "#%%\n"
    }
   }
  },
  {
   "cell_type": "code",
   "execution_count": 9,
   "outputs": [],
   "source": [
    "## plot out some interesting things\n",
    "df_serv = pd.read_sql_query(\"\"\"select service, count(*) as 'performed'\n",
    "    from orderservices group by service;\"\"\", conn)"
   ],
   "metadata": {
    "collapsed": false,
    "pycharm": {
     "name": "#%%\n"
    }
   }
  },
  {
   "cell_type": "code",
   "execution_count": 10,
   "outputs": [
    {
     "data": {
      "text/plain": "<BarContainer object of 14 artists>"
     },
     "execution_count": 10,
     "metadata": {},
     "output_type": "execute_result"
    },
    {
     "data": {
      "text/plain": "<Figure size 432x288 with 1 Axes>",
      "image/png": "[encoded data removed]"
     },
     "metadata": {
      "needs_background": "light"
     },
     "output_type": "display_data"
    }
   ],
   "source": [
    "plt.bar(df_serv['service'], df_serv['performed'])"
   ],
   "metadata": {
    "collapsed": false,
    "pycharm": {
     "name": "#%%\n"
    }
   }
  },
  {
   "cell_type": "code",
   "execution_count": 11,
   "outputs": [],
   "source": [
    "df_freq = pd.read_sql_query(\"\"\"\n",
    "select\n",
    "    s1.order_id,\n",
    "    s1.service as service1,\n",
    "    s2.service as service2\n",
    "from orderservices s1\n",
    "LEFT JOIN orderservices s2\n",
    "ON s1.order_id = s2.order_id AND\n",
    "    s1.service != s2.service\n",
    "GROUP BY s1.order_id, s1.service, s2.service\n",
    "HAVING s2.service != \"\";\n",
    "\"\"\", conn)"
   ],
   "metadata": {
    "collapsed": false,
    "pycharm": {
     "name": "#%%\n"
    }
   }
  },
  {
   "cell_type": "code",
   "execution_count": 19,
   "outputs": [
    {
     "data": {
      "text/plain": "       order_id         service1          service2\n0      22233988      data backup              diag\n1      22233988      data backup  software install\n2      22233988      data backup   software repair\n3      22233988             diag       data backup\n4      22233988             diag  software install\n..          ...              ...               ...\n545  2225136731  software repair       data backup\n546  2225136731  software repair              diag\n547  2225136731  software repair  software install\n548  2225137759      data backup              diag\n549  2225137759             diag       data backup\n\n[550 rows x 3 columns]",
      "text/html": "<div>\n<style scoped>\n    .dataframe tbody tr th:only-of-type {\n        vertical-align: middle;\n    }\n\n    .dataframe tbody tr th {\n        vertical-align: top;\n    }\n\n    .dataframe thead th {\n        text-align: right;\n    }\n</style>\n<table border=\"1\" class=\"dataframe\">\n  <thead>\n    <tr style=\"text-align: right;\">\n      <th></th>\n      <th>order_id</th>\n      <th>service1</th>\n      <th>service2</th>\n    </tr>\n  </thead>\n  <tbody>\n    <tr>\n      <th>0</th>\n      <td>22233988</td>\n      <td>data backup</td>\n      <td>diag</td>\n    </tr>\n    <tr>\n      <th>1</th>\n      <td>22233988</td>\n      <td>data backup</td>\n      <td>software install</td>\n    </tr>\n    <tr>\n      <th>2</th>\n      <td>22233988</td>\n      <td>data backup</td>\n      <td>software repair</td>\n    </tr>\n    <tr>\n      <th>3</th>\n      <td>22233988</td>\n      <td>diag</td>\n      <td>data backup</td>\n    </tr>\n    <tr>\n      <th>4</th>\n      <td>22233988</td>\n      <td>diag</td>\n      <td>software install</td>\n    </tr>\n    <tr>\n      <th>...</th>\n      <td>...</td>\n      <td>...</td>\n      <td>...</td>\n    </tr>\n    <tr>\n      <th>545</th>\n      <td>2225136731</td>\n      <td>software repair</td>\n      <td>data backup</td>\n    </tr>\n    <tr>\n      <th>546</th>\n      <td>2225136731</td>\n      <td>software repair</td>\n      <td>diag</td>\n    </tr>\n    <tr>\n      <th>547</th>\n      <td>2225136731</td>\n      <td>software repair</td>\n      <td>software install</td>\n    </tr>\n    <tr>\n      <th>548</th>\n      <td>2225137759</td>\n      <td>data backup</td>\n      <td>diag</td>\n    </tr>\n    <tr>\n      <th>549</th>\n      <td>2225137759</td>\n      <td>diag</td>\n      <td>data backup</td>\n    </tr>\n  </tbody>\n</table>\n<p>550 rows × 3 columns</p>\n</div>"
     },
     "execution_count": 19,
     "metadata": {},
     "output_type": "execute_result"
    }
   ],
   "source": [
    "df_freq"
   ],
   "metadata": {
    "collapsed": false,
    "pycharm": {
     "name": "#%%\n"
    }
   }
  },
  {
   "cell_type": "code",
   "execution_count": 12,
   "outputs": [
    {
     "data": {
      "text/plain": "array(['data backup', 'diag', 'software install', 'software repair',\n       'password reset', 'software installation', 'hardware repair'],\n      dtype=object)"
     },
     "execution_count": 12,
     "metadata": {},
     "output_type": "execute_result"
    }
   ],
   "source": [
    "## See what options are available (this will give the unique elements of service1 & service2)\n",
    "### note it returns a numpy array\n",
    "pd.unique(df_freq.service1)"
   ],
   "metadata": {
    "collapsed": false,
    "pycharm": {
     "name": "#%%\n"
    }
   }
  },
  {
   "cell_type": "code",
   "execution_count": 13,
   "outputs": [
    {
     "data": {
      "text/plain": "array([  22233988,   22286883,  211108765,  211120792,  211150125,\n        211151215,  211152380,  211155797,  211156868,  211158996,\n        211159472,  211169130,  211170339,  211172830,  211174779,\n        211175801,  211199902,  211209169,  211209863,  211212791,\n        211217069,  211218452,  211244686,  211244779,  211245109,\n        211245681,  211245909,  211247710,  211248264,  211249438,\n        211254142,  212384169,  212384687,  212385179,  212388140,\n        212388640,  212404295,  212404355,  212405313,  212409011,\n        222287150,  222305575,  222307879,  222307976,  222310218,\n        222351002,  222352227,  222353375,  222354355,  222354848,\n        222365074,  222366724,  222367549,  222371736,  222373731,\n        222374450,  222375767,  222387776,  222388394,  222390003,\n        222390681,  222439721,  222509117,  222510422,  222510446,\n        222510909,  222511784,  322287150, 2122383865, 2225135282,\n       2225136731, 2225137759], dtype=int64)"
     },
     "execution_count": 13,
     "metadata": {},
     "output_type": "execute_result"
    }
   ],
   "source": [
    "pd.unique(df_freq['order_id'])"
   ],
   "metadata": {
    "collapsed": false,
    "pycharm": {
     "name": "#%%\n"
    }
   }
  },
  {
   "cell_type": "code",
   "execution_count": 14,
   "outputs": [],
   "source": [
    "### okay lets add these up (there are 550 results in total as you see\n",
    "##### We are making the keys frozensets (immutable sets) because these are hashable\n",
    "## and sets because these only look at unique values (so 'diag', 'reset' == 'reset', 'diag')\n",
    "groups = Counter()\n",
    "for row in df_freq[['service1', 'service2']].values:\n",
    "    groups[frozenset([row[0], row[1]])] += 1"
   ],
   "metadata": {
    "collapsed": false,
    "pycharm": {
     "name": "#%%\n"
    }
   }
  },
  {
   "cell_type": "code",
   "execution_count": 15,
   "outputs": [
    {
     "data": {
      "text/plain": "Counter({frozenset({'data backup', 'diag'}): 62,\n         frozenset({'data backup', 'software install'}): 56,\n         frozenset({'data backup', 'software repair'}): 58,\n         frozenset({'diag', 'software install'}): 110,\n         frozenset({'diag', 'software repair'}): 114,\n         frozenset({'software install', 'software repair'}): 104,\n         frozenset({'diag', 'password reset'}): 24,\n         frozenset({'password reset', 'software install'}): 8,\n         frozenset({'password reset', 'software repair'}): 6,\n         frozenset({'diag', 'software installation'}): 2,\n         frozenset({'password reset', 'software installation'}): 2,\n         frozenset({'diag', 'hardware repair'}): 2,\n         frozenset({'data backup', 'password reset'}): 2})"
     },
     "execution_count": 15,
     "metadata": {},
     "output_type": "execute_result"
    }
   ],
   "source": [
    "groups"
   ],
   "metadata": {
    "collapsed": false,
    "pycharm": {
     "name": "#%%\n"
    }
   }
  },
  {
   "cell_type": "code",
   "execution_count": 16,
   "outputs": [],
   "source": [
    "### plotting is a bit tricker - first we need to change the data types to strings & values\n",
    "services = {\", \".join(list(k)): groups[k] for k in groups.keys()}"
   ],
   "metadata": {
    "collapsed": false,
    "pycharm": {
     "name": "#%%\n"
    }
   }
  },
  {
   "cell_type": "code",
   "execution_count": 17,
   "outputs": [
    {
     "name": "stderr",
     "output_type": "stream",
     "text": [
      "C:\\Users\\SamWorkandFamily\\anaconda3\\envs\\VisualizationExample\\lib\\site-packages\\seaborn\\_decorators.py:36: FutureWarning: Pass the following variables as keyword args: x, y. From version 0.12, the only valid positional argument will be `data`, and passing other arguments without an explicit keyword will result in an error or misinterpretation.\n",
      "  warnings.warn(\n"
     ]
    },
    {
     "data": {
      "text/plain": "<Figure size 432x288 with 1 Axes>",
      "image/png": "[encoded data removed]"
     },
     "metadata": {
      "needs_background": "light"
     },
     "output_type": "display_data"
    }
   ],
   "source": [
    "## then plot\n",
    "##plt.bar(*zip(*services.items()))\n",
    "sns.barplot(list(services.keys()), list(services.values()))\n",
    "plt.xticks(rotation=80)\n",
    "plt.tight_layout() # removes the headers\n",
    "### I like seaborn"
   ],
   "metadata": {
    "collapsed": false,
    "pycharm": {
     "name": "#%%\n"
    }
   }
  },
  {
   "cell_type": "code",
   "execution_count": 18,
   "outputs": [],
   "source": [
    "first_s, second_s = [*zip(*groups.keys())]\n",
    "\n",
    "## make this a bubble chart\n",
    "\n"
   ],
   "metadata": {
    "collapsed": false,
    "pycharm": {
     "name": "#%%\n"
    }
   }
  }
 ],
 "metadata": {
  "kernelspec": {
   "display_name": "Python 3",
   "language": "python",
   "name": "python3"
  },
  "language_info": {
   "codemirror_mode": {
    "name": "ipython",
    "version": 2
   },
   "file_extension": ".py",
   "mimetype": "text/x-python",
   "name": "python",
   "nbconvert_exporter": "python",
   "pygments_lexer": "ipython2",
   "version": "2.7.6"
  }
 },
 "nbformat": 4,
 "nbformat_minor": 0
}