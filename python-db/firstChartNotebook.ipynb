{
 "cells": [
  {
   "cell_type": "markdown",
   "metadata": {
    "collapsed": true,
    "pycharm": {
     "name": "#%% md\n"
    }
   },
   "source": [
    "## Example of Visualizations\n",
    "Will show:\n",
    "- Plot a line plot (scatter) & bar\n",
    "- Load SQL in Notebook\n",
    "  - Look a sub note"
   ]
  },
  {
   "cell_type": "code",
   "source": [
    "%matplotlib inline\n",
    "\n",
    "import sqlite3\n",
    "import json\n",
    "import pandas as pd #I love pandas they so cute\n",
    "import matplotlib.pyplot as plt\n",
    "import seaborn as sns\n",
    "\n",
    "conn = sqlite3.connect('../data/Events.db')\n",
    "\n",
    "## Databases = SQL (ACID) RDBMS\n",
    "### Dataframes = SQL-like (Not only SQL or NoSQL)\n",
    "df = pd.read_sql_query(\"\"\"select a.event_id as id,\n",
    "            e.event_descript as description,\n",
    "            count(a.event_id) as count\n",
    "    from attending a\n",
    "    inner join events e on a.event_id = e.event_id\n",
    "    group by a.event_id;\"\"\", conn)\n",
    "\n",
    "# pandas version of json.dumps to file\n",
    "#df.to_json('../data/eventsAttended.json')"
   ],
   "metadata": {
    "collapsed": false,
    "pycharm": {
     "name": "#%%\n"
    }
   },
   "execution_count": 1,
   "outputs": []
  },
  {
   "cell_type": "code",
   "execution_count": 2,
   "outputs": [
    {
     "data": {
      "text/plain": "<BarContainer object of 4 artists>"
     },
     "execution_count": 2,
     "metadata": {},
     "output_type": "execute_result"
    },
    {
     "data": {
      "text/plain": "<Figure size 432x288 with 1 Axes>",
      "image/png": "[encoded data removed]"
     },
     "metadata": {
      "needs_background": "light"
     },
     "output_type": "display_data"
    }
   ],
   "source": [
    "plt.bar(df['description'], df['count'])\n",
    "## plt.show() # don't need because of inline"
   ],
   "metadata": {
    "collapsed": false,
    "pycharm": {
     "name": "#%%\n"
    }
   }
  },
  {
   "cell_type": "code",
   "execution_count": 3,
   "outputs": [],
   "source": [
    "## Let's combine the above and load our DailyLabor & ServiceTimes\n",
    "## And see which repairs are most ordered together\n",
    "#### Market Based (affinity) Analysis w/SQL\n",
    "\n",
    "# close old conn cause we are making a new one\n",
    "conn.close()\n",
    "# yep the below will create  a new DB\n",
    "conn = sqlite3.connect('../data/DailyReports.db')\n",
    "cur = conn.cursor()\n",
    "## Then let's make our standard scripts cause this would rebuild every night\n",
    "### Yep, this is batch not transaction .... still ACID\n",
    "##### IS 2N-ish thought (like 1/2 N)\n",
    "sqlscript = [\"DROP TABLE IF EXISTS orderservices;\",\n",
    "    \"DROP TABLE IF EXISTS dailylabors;\",\n",
    "    \"DROP TABLE IF EXISTS servicetimes;\",\n",
    "    \"DROP TABLE IF EXISTS pickups;\",\n",
    "    \"\"\"CREATE TABLE servicetimes (\n",
    "        service VARCHAR PRIMARY KEY,\n",
    "        stime INTEGER);\"\"\",\n",
    "    \"\"\"CREATE TABLE dailylabors (\n",
    "        order_id INTEGER PRIMARY KEY,\n",
    "        date VARCHAR(12),\n",
    "        day VARCHAR(5),\n",
    "        price REAL,\n",
    "        description VARCHAR,\n",
    "        new_mem INTEGER CHECK (new_mem IN (0,1)),\n",
    "        -- 0 = false or 1 = true\n",
    "        member INTEGER CHECK (member IN (0,1)));\"\"\",\n",
    "    \"\"\"CREATE TABLE pickups (\n",
    "    date VARCHAR(12) PRIMARY KEY,\n",
    "    pickups INTEGER);\"\"\",\n",
    "    \"\"\"CREATE TABLE orderservices (\n",
    "    service  VARCHAR,\n",
    "    order_id INTEGER,\n",
    "    FOREIGN KEY (service)\n",
    "      REFERENCES servicetimes (service),\n",
    "    FOREIGN KEY (order_id)\n",
    "      REFERENCES dailylabors (order_id));\"\"\"\n",
    "    ]\n",
    "\n",
    "for sql in sqlscript:\n",
    "    cur.execute(sql)\n",
    "### so we'll execute this to show it works and does create it\n",
    "##### but it seems we are moving out of SQL"
   ],
   "metadata": {
    "collapsed": false,
    "pycharm": {
     "name": "#%%\n"
    }
   }
  },
  {
   "cell_type": "code",
   "execution_count": 4,
   "outputs": [],
   "source": [
    "### so now we need to process that json and build some inserts\n",
    "with open(\"../data/ServiceTimes.json\", \"r\") as rf:\n",
    "    services = json.load(rf)\n",
    "\n",
    "# so this would be a dict of \"service name\": \"time\"\n",
    "for s,t in services.items():\n",
    "    cur.execute(\"insert into servicetimes values(?,?);\", (s,t))\n",
    "# need to commit it or it rollsback\n",
    "conn.commit()\n"
   ],
   "metadata": {
    "collapsed": false,
    "pycharm": {
     "name": "#%%\n"
    }
   }
  },
  {
   "cell_type": "code",
   "execution_count": 5,
   "outputs": [],
   "source": [
    "dailies = []\n",
    "\n",
    "with open(\"../data/DailyLabor.json\", \"r\") as rf:\n",
    "    raw_dailies = json.load(rf)\n",
    "\n",
    "# so this one is a list ([]) of dictionaries\n",
    "#service_insert = \"insert into servicetimes values(?,?);\"\n",
    "for days in raw_dailies:\n",
    "    for k in days:\n",
    "        ## cause days is a dictionary\n",
    "        ## pickups is easy so let's start with that:\n",
    "        if k == \"pickups\":\n",
    "            cur.execute(\"insert into pickups values (?,?);\",\n",
    "                        (days['date'], days[k]))\n",
    "        elif k == \"orders\":\n",
    "          ## need to loop over new dictionary\n",
    "          for o in days[k]:\n",
    "              cur_order = {\"order_id\": int(o),\n",
    "                           \"date\": days['date'],\n",
    "                           \"day\": days['day']\n",
    "                           }\n",
    "              for so in days[k][o]:\n",
    "                  if so == \"services\":\n",
    "                      for service in days[k][o][so]:\n",
    "\n",
    "                        cur.execute(\"insert into orderservices values (?,?);\", (service,int(o)))\n",
    "                  else:\n",
    "                      if so == \"price\":\n",
    "                          ## make sure price is float (real)\n",
    "                          cur_order[so] = float(days[k][o][so])\n",
    "                      elif so == \"member\":\n",
    "                          ## make sure true false is correct (1 = true, 0 = false)\n",
    "                          cur_order[so] = 1 if days[k][o][so] else 0\n",
    "                      elif so == \"new\":\n",
    "                          ## make sure true false is correct (1 = true, 0 = false)\n",
    "                          cur_order[\"new_mem\"] = 1 if days[k][o][so] else 0\n",
    "                      else:\n",
    "                          cur_order[so] = days[k][o][so]\n",
    "              dailies.append(cur_order)"
   ],
   "metadata": {
    "collapsed": false,
    "pycharm": {
     "name": "#%%\n"
    }
   }
  },
  {
   "cell_type": "code",
   "execution_count": 6,
   "outputs": [],
   "source": [
    "conn.commit()"
   ],
   "metadata": {
    "collapsed": false,
    "pycharm": {
     "name": "#%%\n"
    }
   }
  },
  {
   "cell_type": "code",
   "execution_count": 7,
   "outputs": [],
   "source": [
    "## not starting the dailies because that would be a mess to debug\n",
    "#### Let's insert it now\n",
    "insertmain = 'INSERT INTO dailylabors ({}) VALUES ({})'.format(\n",
    "                ','.join(cur_order.keys()),\n",
    "                ','.join(['?']*len(cur_order)))\n",
    "\n",
    "for inserts in dailies:\n",
    "    cur.execute(insertmain, tuple(inserts.values()))"
   ],
   "metadata": {
    "collapsed": false,
    "pycharm": {
     "name": "#%%\n"
    }
   }
  },
  {
   "cell_type": "code",
   "execution_count": 8,
   "outputs": [],
   "source": [
    "conn.commit()"
   ],
   "metadata": {
    "collapsed": false,
    "pycharm": {
     "name": "#%%\n"
    }
   }
  },
  {
   "cell_type": "code",
   "execution_count": 9,
   "outputs": [],
   "source": [
    "## plot out some interesting things\n",
    "df_serv = pd.read_sql_query(\"\"\"select service, count(*) as 'performed'\n",
    "    from orderservices group by service;\"\"\", conn)"
   ],
   "metadata": {
    "collapsed": false,
    "pycharm": {
     "name": "#%%\n"
    }
   }
  },
  {
   "cell_type": "code",
   "execution_count": 10,
   "outputs": [
    {
     "data": {
      "text/plain": "<BarContainer object of 14 artists>"
     },
     "execution_count": 10,
     "metadata": {},
     "output_type": "execute_result"
    },
    {
     "data": {
      "text/plain": "<Figure size 432x288 with 1 Axes>",
      "image/png": "[encoded data removed]"
     },
     "metadata": {
      "needs_background": "light"
     },
     "output_type": "display_data"
    }
   ],
   "source": [
    "plt.bar(df_serv['service'], df_serv['performed'])"
   ],
   "metadata": {
    "collapsed": false,
    "pycharm": {
     "name": "#%%\n"
    }
   }
  }
 ],
 "metadata": {
  "kernelspec": {
   "display_name": "Python 3",
   "language": "python",
   "name": "python3"
  },
  "language_info": {
   "codemirror_mode": {
    "name": "ipython",
    "version": 2
   },
   "file_extension": ".py",
   "mimetype": "text/x-python",
   "name": "python",
   "nbconvert_exporter": "python",
   "pygments_lexer": "ipython2",
   "version": "2.7.6"
  }
 },
 "nbformat": 4,
 "nbformat_minor": 0
}