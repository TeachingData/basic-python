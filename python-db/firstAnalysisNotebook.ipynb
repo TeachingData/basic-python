{
 "cells": [
  {
   "cell_type": "markdown",
   "metadata": {
    "collapsed": true,
    "pycharm": {
     "name": "#%% md\n"
    }
   },
   "source": [
    "### Example of data \"warehousing\" using sqlite & python\n",
    "<sub>This is a small part of the example used without as many notes.</sub>\n",
    "\n",
    "FULL FILE: firstChartNotebook.ipynb (in same directory)"
   ]
  },
  {
   "cell_type": "code",
   "execution_count": 1,
   "outputs": [],
   "source": [
    "%matplotlib inline\n",
    "\n",
    "import sqlite3\n",
    "import json\n",
    "import pandas as pd #I love pandas they so cute\n",
    "import matplotlib.pyplot as plt\n",
    "\n",
    "## start code here\n",
    "conn = sqlite3.connect('../data/DailyReports.db')\n",
    "cur = conn.cursor()\n",
    "\n",
    "sqlscript = [\"DROP TABLE IF EXISTS orderservices;\",\n",
    "    \"DROP TABLE IF EXISTS dailylabors;\",\n",
    "    \"DROP TABLE IF EXISTS servicetimes;\",\n",
    "    \"DROP TABLE IF EXISTS pickups;\",\n",
    "    \"\"\"CREATE TABLE servicetimes (\n",
    "        service VARCHAR PRIMARY KEY,\n",
    "        stime INTEGER);\"\"\",\n",
    "    \"\"\"CREATE TABLE dailylabors (\n",
    "        order_id INTEGER PRIMARY KEY,\n",
    "        date VARCHAR(12),\n",
    "        day VARCHAR(5),\n",
    "        price REAL,\n",
    "        description VARCHAR,\n",
    "        new_mem INTEGER CHECK (new_mem IN (0,1)),\n",
    "        -- 0 = false or 1 = true\n",
    "        member INTEGER CHECK (member IN (0,1)));\"\"\",\n",
    "    \"\"\"CREATE TABLE pickups (\n",
    "    date VARCHAR(12) PRIMARY KEY,\n",
    "    pickups INTEGER);\"\"\",\n",
    "    \"\"\"CREATE TABLE orderservices (\n",
    "    service  VARCHAR,\n",
    "    order_id INTEGER,\n",
    "    FOREIGN KEY (service)\n",
    "      REFERENCES servicetimes (service),\n",
    "    FOREIGN KEY (order_id)\n",
    "      REFERENCES dailylabors (order_id));\"\"\"\n",
    "    ]\n",
    "\n",
    "for sql in sqlscript:\n",
    "    cur.execute(sql)"
   ],
   "metadata": {
    "collapsed": false,
    "pycharm": {
     "name": "#%%\n"
    }
   }
  },
  {
   "cell_type": "code",
   "execution_count": 4,
   "outputs": [],
   "source": [
    "with open(\"../data/ServiceTimes.json\", \"r\") as rf:\n",
    "    services = json.load(rf)\n",
    "\n",
    "for s,t in services.items():\n",
    "    cur.execute(\"insert into servicetimes values(?,?);\", (s,t))"
   ],
   "metadata": {
    "collapsed": false,
    "pycharm": {
     "name": "#%%\n"
    }
   }
  },
  {
   "cell_type": "code",
   "execution_count": 5,
   "outputs": [],
   "source": [
    "conn.commit()"
   ],
   "metadata": {
    "collapsed": false,
    "pycharm": {
     "name": "#%%\n"
    }
   }
  },
  {
   "cell_type": "code",
   "execution_count": null,
   "outputs": [],
   "source": [],
   "metadata": {
    "collapsed": false,
    "pycharm": {
     "name": "#%%\n"
    }
   }
  }
 ],
 "metadata": {
  "kernelspec": {
   "display_name": "Python 3",
   "language": "python",
   "name": "python3"
  },
  "language_info": {
   "codemirror_mode": {
    "name": "ipython",
    "version": 2
   },
   "file_extension": ".py",
   "mimetype": "text/x-python",
   "name": "python",
   "nbconvert_exporter": "python",
   "pygments_lexer": "ipython2",
   "version": "2.7.6"
  }
 },
 "nbformat": 4,
 "nbformat_minor": 0
}